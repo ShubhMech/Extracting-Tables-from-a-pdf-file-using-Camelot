{
 "cells": [
  {
   "cell_type": "code",
   "execution_count": null,
   "id": "254db342-7584-48cc-8356-65797720ca02",
   "metadata": {},
   "outputs": [],
   "source": [
    "import camelot as cm\n",
    "\n",
    "input_pdf = cm.read_pdf(\"india_factsheet_economic_n_hdi.pdf\",flavor='lattice',pages='1,2')\n",
    "\n",
    "df = input_pdf[2].df.loc[11:14,1:3]\n",
    "df = df.reset_index(drop = True)\n",
    "df.columns = [\"KPI\",\"2001\",\"2011\"]\n",
    "\n",
    "df.loc[:,[\"2001\",\"2011\"]] = df.loc[:,[\"2001\",\"2011\"]].astype(float)\n",
    "df.to_csv(\"packt_output.csv\")\n",
    "df.to_excel(\"packt_output_excel.xlsx\")\n",
    "import pandas as pd\n",
    "df2 = pd.read_csv(\"packt_output.csv\")\n",
    "import seaborn as sns\n",
    "\n",
    "df_melted = df.melt('KPI', var_name='year', value_name='percentage')\n",
    "sns.barplot(x = \"KPI\", y = \"percentage\", hue = \"year\", data = df_melted);"
   ]
  }
 ],
 "metadata": {
  "kernelspec": {
   "display_name": "Python 3",
   "language": "python",
   "name": "python3"
  },
  "language_info": {
   "codemirror_mode": {
    "name": "ipython",
    "version": 3
   },
   "file_extension": ".py",
   "mimetype": "text/x-python",
   "name": "python",
   "nbconvert_exporter": "python",
   "pygments_lexer": "ipython3",
   "version": "3.8.5"
  }
 },
 "nbformat": 4,
 "nbformat_minor": 5
}
